{
 "cells": [
  {
   "cell_type": "code",
   "execution_count": 35,
   "metadata": {},
   "outputs": [
    {
     "ename": "AttributeError",
     "evalue": "'str' object has no attribute 'dtype'",
     "output_type": "error",
     "traceback": [
      "\u001b[0;31m---------------------------------------------------------------------------\u001b[0m",
      "\u001b[0;31mAttributeError\u001b[0m                            Traceback (most recent call last)",
      "\u001b[1;32m/home/riikoro/housing-AI/data/wrangling.ipynb Cell 1\u001b[0m line \u001b[0;36m8\n\u001b[1;32m      <a href='vscode-notebook-cell:/home/riikoro/housing-AI/data/wrangling.ipynb#W0sZmlsZQ%3D%3D?line=5'>6</a>\u001b[0m \u001b[39m# subset for only helsinki\u001b[39;00m\n\u001b[1;32m      <a href='vscode-notebook-cell:/home/riikoro/housing-AI/data/wrangling.ipynb#W0sZmlsZQ%3D%3D?line=6'>7</a>\u001b[0m hel \u001b[39m=\u001b[39m population[population[\u001b[39m'\u001b[39m\u001b[39mKunta/City\u001b[39m\u001b[39m'\u001b[39m]\u001b[39m.\u001b[39mstr\u001b[39m.\u001b[39mcontains(\u001b[39m'\u001b[39m\u001b[39mHelsinki\u001b[39m\u001b[39m'\u001b[39m)]\n\u001b[0;32m----> <a href='vscode-notebook-cell:/home/riikoro/housing-AI/data/wrangling.ipynb#W0sZmlsZQ%3D%3D?line=7'>8</a>\u001b[0m \u001b[39mprint\u001b[39m(hel[\u001b[39m'\u001b[39;49m\u001b[39m2000\u001b[39;49m\u001b[39m'\u001b[39;49m][\u001b[39m0\u001b[39;49m]\u001b[39m.\u001b[39;49mdtype)\n\u001b[1;32m      <a href='vscode-notebook-cell:/home/riikoro/housing-AI/data/wrangling.ipynb#W0sZmlsZQ%3D%3D?line=8'>9</a>\u001b[0m \u001b[39m# sum populations per area (originally population per age group)\u001b[39;00m\n\u001b[1;32m     <a href='vscode-notebook-cell:/home/riikoro/housing-AI/data/wrangling.ipynb#W0sZmlsZQ%3D%3D?line=9'>10</a>\u001b[0m hel_per_area \u001b[39m=\u001b[39m hel\u001b[39m.\u001b[39mgroupby(\u001b[39m'\u001b[39m\u001b[39mAlue/District\u001b[39m\u001b[39m'\u001b[39m)\n",
      "\u001b[0;31mAttributeError\u001b[0m: 'str' object has no attribute 'dtype'"
     ]
    }
   ],
   "source": [
    "import pandas as pd\n",
    "\n",
    "# population 2012-2022\n",
    "population = pd.read_csv('PKS_Vaestoennusteet_2013_2022.csv', delimiter=';')\n",
    "\n",
    "# subset for only helsinki\n",
    "hel = population[population['Kunta/City'].str.contains('Helsinki')]\n",
    "print(hel['2000'][0].dtype)\n",
    "\n",
    "# populations per year are strings, cast to int\n",
    "\n",
    "# sum populations per area (originally population per age group)\n",
    "hel_per_area = hel.groupby('Alue/District')\n",
    "#print(hel_per_area)\n",
    "#for key, group in hel_per_area:\n",
    " #   print(key, len(group))\n",
    "#hel_per_area['2000'].min()"
   ]
  },
  {
   "cell_type": "code",
   "execution_count": null,
   "metadata": {},
   "outputs": [],
   "source": []
  }
 ],
 "metadata": {
  "kernelspec": {
   "display_name": "base",
   "language": "python",
   "name": "python3"
  },
  "language_info": {
   "codemirror_mode": {
    "name": "ipython",
    "version": 3
   },
   "file_extension": ".py",
   "mimetype": "text/x-python",
   "name": "python",
   "nbconvert_exporter": "python",
   "pygments_lexer": "ipython3",
   "version": "3.11.5"
  },
  "orig_nbformat": 4
 },
 "nbformat": 4,
 "nbformat_minor": 2
}
